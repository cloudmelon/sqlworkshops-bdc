{
    "metadata": {
        "kernelspec": {
            "name": "powershell",
            "display_name": "PowerShell"
        },
        "language_info": {
            "name": "python",
            "version": ""
        }
    },
    "nbformat_minor": 2,
    "nbformat": 4,
    "cells": [
        {
            "cell_type": "markdown",
            "source": [
                "<img src=\"https://github.com/Microsoft/sqlworkshops/blob/master/graphics/solutions-microsoft-logo-small.png?raw=true\" alt=\"Microsoft\">\r\n",
                "<br>\r\n",
                "\r\n",
                "# SQL Server 2019 Big Data Cluster\r\n",
                "## Administrator's Guide\r\n",
                "\r\n",
                "In this <TODO:>"
            ],
            "metadata": {
                "azdata_cell_guid": "969bbd54-5f8e-49eb-b466-5e05633fa7be"
            }
        },
        {
            "cell_type": "markdown",
            "source": [
                "# 00 - Environment Setup\r\n",
                "\r\n",
                "> NOTE: This Jupyter Notebook uses a PowerShell Kernel, which you must install if you are not using the Microsoft Windows Operating System. [More on that process is here](https://docs.microsoft.com/en-us/powershell/scripting/install/installing-powershell-core-on-linux?view=powershell-7). \r\n",
                "\r\n",
                "- Ensure the **Kernel** setting at the top of this Notebook is set to *PowerShell*.\r\n",
                "- You will need to the set the Execution Policy for PowerShell to allow scripts to run. [More on that process is here.](https://docs.microsoft.com/en-us/powershell/module/microsoft.powershell.core/about/about_execution_policies?view=powershell-7)\r\n",
                ""
            ],
            "metadata": {
                "azdata_cell_guid": "31d34437-b08e-44a7-82f9-1be4e7170025"
            }
        },
        {
            "cell_type": "code",
            "source": [
                "<# Code for Setup #>"
            ],
            "metadata": {
                "azdata_cell_guid": "03e7dc98-c577-4616-9708-e82908019d40"
            },
            "outputs": [],
            "execution_count": null
        },
        {
            "cell_type": "markdown",
            "source": [
                "# 01 - Platform Tasks\r\n",
                "## Hardware, Operating System, Kubernetes\r\n",
                "\r\n",
                "\r\n",
                ""
            ],
            "metadata": {
                "azdata_cell_guid": "af10557a-dce4-42b4-8ba7-af1faaad461c"
            }
        },
        {
            "cell_type": "markdown",
            "source": [
                "## 1.1 Hardware\r\n",
                "\r\n",
                "### Physical\r\n",
                "\r\n",
                "### Security\r\n",
                "\r\n",
                "### Software\r\n",
                ""
            ],
            "metadata": {
                "azdata_cell_guid": "9f1feeef-acff-4dee-8c51-c941286a4025"
            }
        },
        {
            "cell_type": "code",
            "source": [
                "<# Code for Platform Checks #>"
            ],
            "metadata": {
                "azdata_cell_guid": "e430451b-d6f2-4e08-aecf-db0fd9bd47b3"
            },
            "outputs": [],
            "execution_count": null
        },
        {
            "cell_type": "markdown",
            "source": [
                "## 1.2 Operating System\r\n",
                "\r\n",
                "### Backups\r\n",
                "\r\n",
                "### Logs\r\n",
                "\r\n",
                "### Patches\r\n",
                "\r\n",
                "### Security"
            ],
            "metadata": {
                "azdata_cell_guid": "8704d143-693b-4642-948d-1b138c4260f3"
            }
        },
        {
            "cell_type": "code",
            "source": [
                "<# Code for Setup #>"
            ],
            "metadata": {
                "azdata_cell_guid": "ffaa44b3-67bf-4825-bee2-43e381afd1ae"
            },
            "outputs": [],
            "execution_count": null
        },
        {
            "cell_type": "markdown",
            "source": [
                "## 1.3 Kubernetes\r\n",
                "\r\n",
                "### Client Versions and Cluster Status\r\n",
                "\r\n",
                "### Logs\r\n",
                "\r\n",
                "### Patches\r\n",
                "\r\n",
                "### Security\r\n",
                "\r\n",
                "### Space \r\n",
                ""
            ],
            "metadata": {
                "azdata_cell_guid": "ca9a3e55-34dd-4412-b262-221aed63df09"
            }
        },
        {
            "cell_type": "code",
            "source": [
                "<# Code for Setup #>\r\n",
                "kubectl version -o json"
            ],
            "metadata": {
                "azdata_cell_guid": "40642d48-050a-482f-bf0f-261eee6fd366",
                "tags": []
            },
            "outputs": [
                {
                    "output_type": "stream",
                    "name": "stdout",
                    "text": "{\n  \"clientVersion\": {\n    \"major\": \"1\",\n    \"minor\": \"16+\",\n    \"gitVersion\": \"v1.16.6-beta.0\",\n    \"gitCommit\": \"e7f962ba86f4ce7033828210ca3556393c377bcc\",\n    \"gitTreeState\": \"clean\",\n    \"buildDate\": \"2020-01-15T08:26:26Z\",\n    \"goVersion\": \"go1.13.5\",\n    \"compiler\": \"gc\",\n    \"platform\": \"windows/amd64\"\n  }\n}\n"
                },
                {
                    "output_type": "stream",
                    "name": "stderr",
                    "text": "Unable to connect to the server: dial tcp [::1]:8080: connectex: No connection could be made because the target machine actively refused it.\n"
                }
            ],
            "execution_count": 63
        },
        {
            "cell_type": "markdown",
            "source": [
                "# 02 - SQL Server"
            ],
            "metadata": {
                "azdata_cell_guid": "0d49c493-78d7-4bec-8a95-3c7d287737d9"
            }
        },
        {
            "cell_type": "markdown",
            "source": [
                "## 2.1 Platform\r\n",
                "\r\n",
                "### Logs\r\n",
                "\r\n",
                "### Patches\r\n",
                "\r\n",
                "### Security"
            ],
            "metadata": {
                "azdata_cell_guid": "bb036075-4b2c-47c2-93c6-b1b0230ae079"
            }
        },
        {
            "cell_type": "code",
            "source": [
                "<# Code for Setup #>"
            ],
            "metadata": {
                "azdata_cell_guid": "eccab508-dc09-4834-be77-947b5bc538b9"
            },
            "outputs": [],
            "execution_count": null
        },
        {
            "cell_type": "markdown",
            "source": [
                "## 2.2 Databases\r\n",
                " \r\n",
                "### Backups\r\n",
                "\r\n",
                "### Logs\r\n",
                "\r\n",
                "### Security"
            ],
            "metadata": {
                "azdata_cell_guid": "fde21703-c7e0-49fb-bb81-25c299bddbec"
            }
        },
        {
            "cell_type": "code",
            "source": [
                "<# Code for Setup #>"
            ],
            "metadata": {
                "azdata_cell_guid": "9d9c3fd0-bac4-44d6-803e-df10c983c6ca"
            },
            "outputs": [],
            "execution_count": null
        },
        {
            "cell_type": "markdown",
            "source": [
                "# 03 - HDFS"
            ],
            "metadata": {
                "azdata_cell_guid": "1c33e80d-c2f8-4f55-9eb6-a4a5d225255d"
            }
        },
        {
            "cell_type": "code",
            "source": [
                "<# Code for Setup #>"
            ],
            "metadata": {
                "azdata_cell_guid": "1778f9e8-b7a0-43e8-a521-34eecca12021"
            },
            "outputs": [],
            "execution_count": null
        },
        {
            "cell_type": "markdown",
            "source": [
                "# 04 - Spark"
            ],
            "metadata": {
                "azdata_cell_guid": "dbdc3111-f1b1-4012-812a-86c4dbf239c2"
            }
        },
        {
            "cell_type": "code",
            "source": [
                "<# Code for Setup #>"
            ],
            "metadata": {
                "azdata_cell_guid": "d3db90c7-5b29-45f5-935e-31492fbd3a09"
            },
            "outputs": [],
            "execution_count": null
        },
        {
            "cell_type": "markdown",
            "source": [
                "## Next Steps: Continue on to other workloads in SQL Server 2019\r\n",
                "\r\n",
                "Now you're ready to work with SQL Server 2019's other features - [you can learn more about those here](https://docs.microsoft.com/en-us/sql/big-data-cluster/big-data-cluster-overview?view=sqlallproducts-allversions)."
            ],
            "metadata": {
                "azdata_cell_guid": "c7122be0-61a8-4b8d-a023-14212908269d"
            }
        }
    ]
}